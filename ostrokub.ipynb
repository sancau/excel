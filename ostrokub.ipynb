{
 "cells": [
  {
   "cell_type": "code",
   "execution_count": 148,
   "metadata": {
    "collapsed": false
   },
   "outputs": [],
   "source": [
    "# coding=utf-8\n",
    "\n",
    "import os, sys\n",
    "import openpyxl\n",
    "\n",
    "\"\"\"\n",
    "DATA CONFIG\n",
    "\"\"\"\n",
    "INDEX = 0\n",
    "NAME = 1\n",
    "SIZE = 6\n",
    "AMOUNT = 11\n",
    "MATERIAL = 12\n",
    "MESURE = 17\n",
    "MATERIAL_AMOUNT = 19\n",
    "GOST = 21\n",
    "COMMENT = 24\n",
    "\n",
    "FISRT_LIST = 'Лист1'\n",
    "FISRT_LIST_FIRST_DATA_ROW = 22\n",
    "OTHER_LISTS_FIRST_DATA_ROW = 2\n",
    "\n",
    "\"\"\"\n",
    "SCRIPT CONFIG\n",
    "\"\"\"\n",
    "DEFAULT_DIR_PATH = os.path.dirname(sys.argv[0])\n",
    "DEFUALT_RESULT_FILE_NAME = 'output.xls'\n",
    "DEFAULT_RESULT_FILE_PATH = \\\n",
    "    os.path.join(DEFAULT_DIR_PATH, DEFUALT_RESULT_FILE_NAME)\n",
    "\n",
    "\"\"\"\n",
    "LOGIC\n",
    "\"\"\"    \n",
    "def get_files(dir_path=DEFAULT_DIR_PATH):\n",
    "    \"\"\"\n",
    "    Returns list of excel file paths in\n",
    "    a given directory\n",
    "    \"\"\"\n",
    "    result = []\n",
    "    for path, subdirs, files in os.walk(dir_path):\n",
    "        for file in files:\n",
    "            filename, file_extension = os.path.splitext(file)\n",
    "            if file_extension in ['.xls', '.xlsx']:\n",
    "                file_path = os.path.join(path, file)\n",
    "                print(file_path)\n",
    "                result.append(file_path)\n",
    "    return result\n",
    "\n",
    "def merge(rows):\n",
    "    \"\"\"\n",
    "    Parse a row of the table.\n",
    "    Add data to result dict.\n",
    "    \n",
    "    If this key exists in the dict process its params\n",
    "    and add the amount\n",
    "    Else - add new key in dict\n",
    "    \"\"\"\n",
    "    pass\n",
    "\n",
    "def build_results_file(results_dict, results_file_path=DEFAULT_RESULT_FILE_PATH):\n",
    "    \"\"\"\n",
    "    Build an excel file based on results dict and \n",
    "    a given path.\n",
    "    \"\"\"\n",
    "    pass\n",
    "\n",
    "def process(dir_path=DEFAULT_DIR_PATH, result_file_path=DEFAULT_RESULT_FILE_PATH):\n",
    "    try:\n",
    "        files = get_files(dir_path)\n",
    "        rows_to_process = []\n",
    "        if files:\n",
    "            for file in files:\n",
    "                workbook = openpyxl.load_workbook(filename=file)   \n",
    "                for sheet in workbook:\n",
    "                    for row in sheet:\n",
    "                        row_index = (lambda x: x[0].row)(row)\n",
    "                        if (sheet is not workbook[FISRT_LIST] \\\n",
    "                        and row_index >= OTHER_LISTS_FIRST_DATA_ROW) \\\n",
    "                            or row_index >= FISRT_LIST_FIRST_DATA_ROW:\n",
    "                            rows_to_process.append(row) \n",
    "                            \n",
    "            results_dict = merge(rows_to_process)\n",
    "            # build_results_file(results_dict) \n",
    "            # print('Success')\n",
    "            print(results_dict)\n",
    "        else:\n",
    "            print('No files to process')\n",
    "    \n",
    "    except Exception as ex:\n",
    "        print('Error while processing')\n",
    "        print(ex)\n"
   ]
  },
  {
   "cell_type": "code",
   "execution_count": 149,
   "metadata": {
    "collapsed": false
   },
   "outputs": [
    {
     "name": "stdout",
     "output_type": "stream",
     "text": [
      "/home/sancau/Desktop/kub/excel/testdata/test.xlsx\n",
      "None\n"
     ]
    }
   ],
   "source": [
    "dir_path = '/home/sancau/Desktop/kub'\n",
    "\n",
    "process(dir_path)\n"
   ]
  },
  {
   "cell_type": "code",
   "execution_count": null,
   "metadata": {
    "collapsed": true
   },
   "outputs": [],
   "source": []
  }
 ],
 "metadata": {
  "kernelspec": {
   "display_name": "Python 3",
   "language": "python",
   "name": "python3"
  },
  "language_info": {
   "codemirror_mode": {
    "name": "ipython",
    "version": 3
   },
   "file_extension": ".py",
   "mimetype": "text/x-python",
   "name": "python",
   "nbconvert_exporter": "python",
   "pygments_lexer": "ipython3",
   "version": "3.4.3"
  }
 },
 "nbformat": 4,
 "nbformat_minor": 0
}
